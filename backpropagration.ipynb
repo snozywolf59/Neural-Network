{
 "cells": [
  {
   "cell_type": "code",
   "execution_count": null,
   "id": "450a01f8",
   "metadata": {},
   "outputs": [
    {
     "name": "stdout",
     "output_type": "stream",
     "text": [
      "aliuce\n"
     ]
    }
   ],
   "source": [
    "class Value:\n",
    "    def __init__(self, val, _children=(), _op=None):\n",
    "        self.val = val\n",
    "        self.grad = 0.0\n",
    "        self._backward = lambda: None\n",
    "        self._prev = set(_children)\n",
    "        self._op = _op\n",
    "        \n",
    "    def __repr__(self):\n",
    "        return f\"Value(val={self.val}, grad={self.grad})\"\n",
    "    \n",
    "    def __add__(self, other):\n",
    "        assert \n",
    "        other = other if isinstance(other, Value) else Value(other)\n",
    "        out = Value(self.val + other.val, (self, other), '+')\n",
    "\n",
    "        def _backward():\n",
    "            self.grad += out.grad\n",
    "            other.grad += out.grad\n",
    "        out._backward = _backward\n",
    "\n",
    "        return out\n",
    "    \n",
    "    def __pow__(self, other):\n",
    "        assert isinstance(other, (int, float, Value)), \"Only supports int/float/Value powers.\"\n",
    "        other = other.val if isinstance(other, Value) else other\n",
    "        out = Value(self.val ** other, (self,), f'**{other}')\n",
    "\n",
    "        def _backward():\n",
    "            self.grad += other * (self.val ** (other - 1)) * out.grad\n",
    "        out._backward = _backward\n",
    "\n",
    "        return out\n",
    "\n",
    "    "
   ]
  }
 ],
 "metadata": {
  "kernelspec": {
   "display_name": "Python 3",
   "language": "python",
   "name": "python3"
  },
  "language_info": {
   "codemirror_mode": {
    "name": "ipython",
    "version": 3
   },
   "file_extension": ".py",
   "mimetype": "text/x-python",
   "name": "python",
   "nbconvert_exporter": "python",
   "pygments_lexer": "ipython3",
   "version": "3.13.7"
  }
 },
 "nbformat": 4,
 "nbformat_minor": 5
}
